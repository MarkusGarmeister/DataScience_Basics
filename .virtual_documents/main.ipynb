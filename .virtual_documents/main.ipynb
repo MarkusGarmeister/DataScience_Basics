





import pandas as pd
import numpy as np
import seaborn as sns
import matplotlib as mp


df = pd.read_csv('capitalbikeshare-complete.csv', index_col=0, sep=',')





df.shape





df.head(3)





df.dtypes





weather_main_values = df["weather_main"].unique()
weather_main_values





df.isnull().sum()





df.info()











def not_Number_to_zero(ds):
    for i in length(ds):
        if ds[i] == NaN:
            ds[i] = 0
    return ds



df_copy = df





not_Number_to_zero(df_copy[rain_1h])



